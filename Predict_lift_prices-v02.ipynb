{
 "cells": [
  {
   "cell_type": "markdown",
   "metadata": {},
   "source": [
    "# Predict Lift Fare Ticket Price\n",
    "\n",
    "## First model: Linear Regression"
   ]
  },
  {
   "cell_type": "code",
   "execution_count": 20,
   "metadata": {
    "collapsed": true
   },
   "outputs": [],
   "source": [
    "import pandas as pd\n",
    "import numpy as np\n",
    "from sklearn.linear_model import LinearRegression\n",
    "from sklearn.model_selection import train_test_split\n",
    "import matplotlib.pyplot as plt\n",
    "import seaborn as sns\n",
    "from sklearn.metrics import mean_squared_error\n",
    "import warnings\n",
    "# current_palette = sns.color_palette(\"Paired\")\n",
    "sns.set_palette(sns.color_palette(\"Set1\"))\n",
    "sns.set_style(\"darkgrid\", {\"axes.facecolor\": \".95\"})\n",
    "sns.set_context(rc={\"lines.linewidth\": 2.5})\n",
    "\n",
    "lr = LinearRegression()\n",
    "\n",
    "RSEED = 100\n",
    "\n",
    "isFigure = False # turn off unnecessary figures"
   ]
  },
  {
   "cell_type": "markdown",
   "metadata": {},
   "source": [
    "### Bin the Data by Lift Cost\n",
    "We need to first bin the data by lift rate"
   ]
  },
  {
   "cell_type": "code",
   "execution_count": 21,
   "metadata": {},
   "outputs": [],
   "source": [
    "data = pd.read_csv('SkiResort_Combined_test.csv')\n",
    "# data.describe()\n",
    "data['fare-bin'] = pd.cut(data['adult day pass'], bins = list(range(10, 200, 10))).astype(str)\n",
    "\n",
    "# Visualize the bins\n",
    "# Uppermost bin\n",
    "data.loc[data['fare-bin'] == 'nan', 'fare-bin'] = '[190+]'\n",
    "\n",
    "# # Adjust bin so the sorting is correct\n",
    "# data.loc[data['fare-bin'] == '(0, 10]', 'fare-bin'] = '(000, 010]'\n",
    "data.loc[data['fare-bin'] == '(10, 20]', 'fare-bin'] = '(010, 020]'\n",
    "data.loc[data['fare-bin'] == '(20, 30]', 'fare-bin'] = '(020, 030]'\n",
    "data.loc[data['fare-bin'] == '(30, 40]', 'fare-bin'] = '(030, 040]'\n",
    "data.loc[data['fare-bin'] == '(40, 50]', 'fare-bin'] = '(040, 050]'\n",
    "data.loc[data['fare-bin'] == '(50, 60]', 'fare-bin'] = '(050, 060]'\n",
    "data.loc[data['fare-bin'] == '(60, 70]', 'fare-bin'] = '(060, 070]'\n",
    "data.loc[data['fare-bin'] == '(70, 80]', 'fare-bin'] = '(070, 080]'\n",
    "data.loc[data['fare-bin'] == '(80, 90]', 'fare-bin'] = '(080, 090]'\n",
    "data.loc[data['fare-bin'] == '(90, 100]', 'fare-bin'] = '(090, 100]'\n",
    "\n",
    "\n",
    "# Bar plot of value counts\n",
    "if isFigure:\n",
    "    data['fare-bin'].value_counts().sort_index().plot.bar(color = 'b', edgecolor = 'k');\n",
    "    plt.title('Fare Binned');"
   ]
  },
  {
   "cell_type": "markdown",
   "metadata": {},
   "source": [
    "### Get rid of bins without enough data"
   ]
  },
  {
   "cell_type": "code",
   "execution_count": 22,
   "metadata": {},
   "outputs": [],
   "source": [
    "data = data.dropna(subset=['drop (m)','AVG_GOODDAYS','runCount_x'])\n",
    "count = data['fare-bin'].value_counts()\n",
    "bad = list(count[data['fare-bin'].value_counts() < 3].index)\n",
    "for ii in bad:\n",
    "    data = data[data['fare-bin'] != ii]\n",
    "\n",
    "if isFigure:    \n",
    "    data['fare-bin'].value_counts().sort_index().plot.bar(color = 'b', edgecolor = 'k');\n",
    "    sns.catplot(x=\"runCount_x\", y=\"fare-bin\", kind=\"box\", data=data);\n"
   ]
  },
  {
   "cell_type": "markdown",
   "metadata": {},
   "source": [
    "### Scale features"
   ]
  },
  {
   "cell_type": "code",
   "execution_count": 23,
   "metadata": {
    "collapsed": true
   },
   "outputs": [],
   "source": [
    "# scale the vertical drop by 10 so that is closer to the values of the other features\n",
    "data['drop (m)'] = data['drop (m)']/10"
   ]
  },
  {
   "cell_type": "markdown",
   "metadata": {},
   "source": [
    "## Create the training and validation sets"
   ]
  },
  {
   "cell_type": "code",
   "execution_count": 24,
   "metadata": {
    "collapsed": true
   },
   "outputs": [],
   "source": [
    "# Split data\n",
    "X_train, X_valid, y_train, y_valid = train_test_split(data, np.array(data['adult day pass']), \n",
    "                                                      stratify = data['fare-bin'],\n",
    "                                                      random_state = RSEED, test_size = 0.5)"
   ]
  },
  {
   "cell_type": "markdown",
   "metadata": {
    "collapsed": true
   },
   "source": [
    "Choose and train the features"
   ]
  },
  {
   "cell_type": "code",
   "execution_count": 25,
   "metadata": {
    "collapsed": true
   },
   "outputs": [],
   "source": [
    "# set the features\n",
    "features = ['lat_x', 'drop (m)', 'AVG_GOODDAYS','runCount_x']"
   ]
  },
  {
   "cell_type": "code",
   "execution_count": 26,
   "metadata": {},
   "outputs": [
    {
     "name": "stdout",
     "output_type": "stream",
     "text": [
      "Intercept 159.4569\n",
      "long_x coef:  -2.6904 \tlong_x coef: 0.1235 \tAVG_GOODDAYS coef: -0.0135\n"
     ]
    }
   ],
   "source": [
    "lr.fit(X_train[features], y_train)\n",
    "\n",
    "print('Intercept', round(lr.intercept_, 4))\n",
    "print('long_x coef: ', round(lr.coef_[0], 4), \n",
    "      '\\tlong_x coef:', round(lr.coef_[1], 4),\n",
    "      '\\tAVG_GOODDAYS coef:', round(lr.coef_[2], 4))"
   ]
  },
  {
   "cell_type": "markdown",
   "metadata": {},
   "source": [
    "#### Use function to score the model\n",
    "* __Root mean squared error__: the metric used by the competition\n",
    "* __Mean absolute percentage error__: the average percentage error of the predictions"
   ]
  },
  {
   "cell_type": "code",
   "execution_count": 27,
   "metadata": {
    "collapsed": true
   },
   "outputs": [],
   "source": [
    "warnings.filterwarnings('ignore', category = RuntimeWarning)\n",
    "\n",
    "def metrics(train_pred, valid_pred, y_train, y_valid):\n",
    "    \"\"\"Calculate metrics:\n",
    "       Root mean squared error and mean absolute percentage error\"\"\"\n",
    "    \n",
    "    # Root mean squared error\n",
    "    train_rmse = np.sqrt(mean_squared_error(y_train, train_pred))\n",
    "    valid_rmse = np.sqrt(mean_squared_error(y_valid, valid_pred))\n",
    "    \n",
    "    # Calculate absolute percentage error\n",
    "    train_ape = abs((y_train - train_pred) / y_train)\n",
    "    valid_ape = abs((y_valid - valid_pred) / y_valid)\n",
    "    \n",
    "    # Account for y values of 0\n",
    "    train_ape[train_ape == np.inf] = 0\n",
    "    train_ape[train_ape == -np.inf] = 0\n",
    "    valid_ape[valid_ape == np.inf] = 0\n",
    "    valid_ape[valid_ape == -np.inf] = 0\n",
    "    \n",
    "    train_mape = 100 * np.mean(train_ape)\n",
    "    valid_mape = 100 * np.mean(valid_ape)\n",
    "    \n",
    "    return train_rmse, valid_rmse, train_mape, valid_mape\n",
    "\n",
    "def evaluate(model, features, X_train, X_valid, y_train, y_valid):\n",
    "    \"\"\"Mean absolute percentage error\"\"\"\n",
    "    \n",
    "    # Make predictions\n",
    "    train_pred = model.predict(X_train[features])\n",
    "    valid_pred = model.predict(X_valid[features])\n",
    "    \n",
    "    # Get metrics\n",
    "    train_rmse, valid_rmse, train_mape, valid_mape = metrics(train_pred, valid_pred,\n",
    "                                                             y_train, y_valid)\n",
    "    \n",
    "    print(f'Training:   rmse = {round(train_rmse, 2)} \\t mape = {round(train_mape, 2)}')\n",
    "    print(f'Validation: rmse = {round(valid_rmse, 2)} \\t mape = {round(valid_mape, 2)}')"
   ]
  },
  {
   "cell_type": "code",
   "execution_count": 28,
   "metadata": {},
   "outputs": [
    {
     "name": "stdout",
     "output_type": "stream",
     "text": [
      "Training:   rmse = 12.06 \t mape = 19.35\n",
      "Validation: rmse = 14.6 \t mape = 25.29\n"
     ]
    }
   ],
   "source": [
    "evaluate(lr, features, \n",
    "        X_train, X_valid, y_train, y_valid)"
   ]
  },
  {
   "cell_type": "markdown",
   "metadata": {},
   "source": [
    "### Calculate Baseline\n",
    "\n",
    "Compare these predictions to a naive guess. For now use the average value of the target in the training data."
   ]
  },
  {
   "cell_type": "code",
   "execution_count": 29,
   "metadata": {},
   "outputs": [
    {
     "name": "stdout",
     "output_type": "stream",
     "text": [
      "Baseline Training:   rmse = 22.4 \t mape = 40.26\n",
      "Baseline Validation: rmse = 23.36 \t mape = 43.51\n"
     ]
    }
   ],
   "source": [
    "train_mean = y_train.mean()\n",
    "\n",
    "# Create list of the same prediction for every observation\n",
    "train_preds = [train_mean for _ in range(len(y_train))]\n",
    "valid_preds = [train_mean for _ in range(len(y_valid))]\n",
    "\n",
    "tr, vr, tm, vm = metrics(train_preds, valid_preds, y_train, y_valid)\n",
    "\n",
    "print(f'Baseline Training:   rmse = {round(tr, 2)} \\t mape = {round(tm, 2)}')\n",
    "print(f'Baseline Validation: rmse = {round(vr, 2)} \\t mape = {round(vm, 2)}')"
   ]
  },
  {
   "cell_type": "markdown",
   "metadata": {},
   "source": [
    "### Try with more Features"
   ]
  },
  {
   "cell_type": "code",
   "execution_count": 30,
   "metadata": {},
   "outputs": [
    {
     "name": "stdout",
     "output_type": "stream",
     "text": [
      "Training:   rmse = 12.06 \t mape = 19.35\n",
      "Validation: rmse = 14.6 \t mape = 25.29\n"
     ]
    }
   ],
   "source": [
    "lr.fit(X_train[features], y_train)\n",
    "# print('Intercept', round(lr.intercept_, 4))\n",
    "# print('long_x coef: ', round(lr.coef_[0], 4), \n",
    "#       '\\tlong_x coef:', round(lr.coef_[1], 4),\n",
    "#       '\\tAVG_COLDDAYS coef:', round(lr.coef_[2], 4),\n",
    "#      '\\trunCount coef:', round(lr.coef_[3], 4))\n",
    "evaluate(lr, features, \n",
    "         X_train, X_valid, y_train, y_valid)"
   ]
  },
  {
   "cell_type": "code",
   "execution_count": 31,
   "metadata": {
    "collapsed": true
   },
   "outputs": [],
   "source": [
    "# Get rid of yearly temp data\n",
    "cold_cols = [col for col in data.columns if '_COLD' in col]\n",
    "# for ii in cold_cols:\n",
    "#     data = data.drop(ii)\n",
    "data = data.drop(columns=cold_cols)\n",
    "hot_cols = [col for col in data.columns if '_HOT' in col]\n",
    "data = data.drop(columns=hot_cols)\n",
    "\n",
    "bad_cols = [col for col in data.columns if '_y' in col]\n",
    "data = data.drop(columns=bad_cols)"
   ]
  },
  {
   "cell_type": "code",
   "execution_count": 32,
   "metadata": {},
   "outputs": [],
   "source": [
    "if isFigure:\n",
    "    corrdata = data[['lat_x','long_x','runCount_x','liftCount_x','skiableAcreage_x','longestRun_x','adult day pass','drop (m)','AVG_GOODDAYS']]\n",
    "    corrs = corrdata.corr()\n",
    "\n",
    "    plt.figure(figsize = (12, 12))\n",
    "    sns.heatmap(corrs, annot = True, vmin = -1, vmax = 1, fmt = '.3f', cmap=plt.cm.PiYG_r);"
   ]
  },
  {
   "cell_type": "markdown",
   "metadata": {},
   "source": [
    "## Implement Random Forest Model"
   ]
  },
  {
   "cell_type": "code",
   "execution_count": 33,
   "metadata": {},
   "outputs": [
    {
     "name": "stderr",
     "output_type": "stream",
     "text": [
      "[Parallel(n_jobs=-1)]: Using backend ThreadingBackend with 12 concurrent workers.\n",
      "[Parallel(n_jobs=-1)]: Done  18 out of  20 | elapsed:    0.0s remaining:    0.0s\n",
      "[Parallel(n_jobs=-1)]: Done  20 out of  20 | elapsed:    0.0s finished\n"
     ]
    },
    {
     "data": {
      "text/plain": [
       "RandomForestRegressor(bootstrap=True, criterion='mse', max_depth=20,\n",
       "           max_features=None, max_leaf_nodes=None,\n",
       "           min_impurity_decrease=0.0, min_impurity_split=None,\n",
       "           min_samples_leaf=1, min_samples_split=2,\n",
       "           min_weight_fraction_leaf=0.0, n_estimators=20, n_jobs=-1,\n",
       "           oob_score=True, random_state=None, verbose=1, warm_start=False)"
      ]
     },
     "execution_count": 33,
     "metadata": {},
     "output_type": "execute_result"
    }
   ],
   "source": [
    "from sklearn.ensemble import RandomForestRegressor\n",
    "\n",
    "# Create the random forest\n",
    "random_forest = RandomForestRegressor(n_estimators = 20, max_depth = 20, \n",
    "                                      max_features = None, oob_score = True, \n",
    "                                      bootstrap = True, verbose = 1, n_jobs = -1)\n",
    "\n",
    "# Train on data\n",
    "random_forest.fit(X_train[features], y_train)"
   ]
  },
  {
   "cell_type": "code",
   "execution_count": 34,
   "metadata": {},
   "outputs": [
    {
     "name": "stderr",
     "output_type": "stream",
     "text": [
      "[Parallel(n_jobs=12)]: Using backend ThreadingBackend with 12 concurrent workers.\n",
      "[Parallel(n_jobs=12)]: Done  18 out of  20 | elapsed:    0.0s remaining:    0.0s\n",
      "[Parallel(n_jobs=12)]: Done  20 out of  20 | elapsed:    0.0s finished\n",
      "[Parallel(n_jobs=12)]: Using backend ThreadingBackend with 12 concurrent workers.\n",
      "[Parallel(n_jobs=12)]: Done  18 out of  20 | elapsed:    0.0s remaining:    0.0s\n",
      "[Parallel(n_jobs=12)]: Done  20 out of  20 | elapsed:    0.0s finished\n"
     ]
    },
    {
     "name": "stdout",
     "output_type": "stream",
     "text": [
      "Training:   rmse = 4.63 \t mape = 6.96\n",
      "Validation: rmse = 14.12 \t mape = 23.91\n"
     ]
    }
   ],
   "source": [
    "evaluate(random_forest, features,\n",
    "         X_train, X_valid, y_train, y_valid)"
   ]
  },
  {
   "cell_type": "markdown",
   "metadata": {},
   "source": [
    "Good news is that our training error dropped a ton but the bad news is that hte validation error stayed the same.\n",
    "\n",
    "In this instance I think the issue is that we don't have enough data ... "
   ]
  },
  {
   "cell_type": "code",
   "execution_count": 35,
   "metadata": {},
   "outputs": [
    {
     "name": "stderr",
     "output_type": "stream",
     "text": [
      "[Parallel(n_jobs=12)]: Using backend ThreadingBackend with 12 concurrent workers.\n",
      "[Parallel(n_jobs=12)]: Done  18 out of  20 | elapsed:    0.0s remaining:    0.0s\n",
      "[Parallel(n_jobs=12)]: Done  20 out of  20 | elapsed:    0.0s finished\n"
     ]
    },
    {
     "data": {
      "text/plain": [
       "Text(0.5, 0, 'Adult Lift Ticket')"
      ]
     },
     "execution_count": 35,
     "metadata": {},
     "output_type": "execute_result"
    },
    {
     "data": {
      "image/png": "[encoded data removed]",
      "text/plain": [
       "<Figure size 720x432 with 1 Axes>"
      ]
     },
     "metadata": {},
     "output_type": "display_data"
    }
   ],
   "source": [
    "valid_preds = random_forest.predict(X_valid[features])\n",
    "valid_lr = lr.predict(X_valid[features])\n",
    "# sns.set_context(\"notebook\", font_scale=1.5, rc={\"lines.linewidth\": 2.5})\n",
    "# sns.set()\n",
    "\n",
    "plt.figure(figsize = (10, 6))\n",
    "ax=sns.kdeplot(y_valid, label = 'Actual')\n",
    "sns.kdeplot(valid_preds, label = 'Random Forest Pred.')\n",
    "sns.kdeplot(valid_lr, label = 'Linear Pred.')\n",
    "plt.legend(prop = {'size': 15})\n",
    "plt.title(\"Distribution of Validation Fares\",size=22);\n",
    "plt.xlabel('Adult Lift Ticket')"
   ]
  },
  {
   "cell_type": "code",
   "execution_count": 36,
   "metadata": {},
   "outputs": [
    {
     "data": {
      "text/plain": [
       "['annualSnowfall_x',\n",
       " 'created_x',\n",
       " 'lat_x',\n",
       " 'long_x',\n",
       " 'operatingStatus_x',\n",
       " 'name',\n",
       " 'nightSkiing_x',\n",
       " 'terrain park',\n",
       " 'officialWebsite_x',\n",
       " 'Avg. Snowfall',\n",
       " 'runCount_x',\n",
       " 'liftCount_x',\n",
       " 'longestRun_x',\n",
       " 'skiableAcreage_x',\n",
       " 'hourlyLiftCapacity_x',\n",
       " 'adult day pass',\n",
       " 'drop (m)',\n",
       " 'summit (m)',\n",
       " 'region',\n",
       " 'owner_x',\n",
       " 'country',\n",
       " 'Unnamed: 21',\n",
       " 'georeferencing',\n",
       " 'openingYear',\n",
       " 'regions',\n",
       " 'skiMaps',\n",
       " 'tags',\n",
       " 'terrainPark',\n",
       " 'user',\n",
       " 'STAID',\n",
       " 'STAID_DIST',\n",
       " 'NYEAR',\n",
       " 'AVG_GOODDAYS',\n",
       " 'fare-bin']"
      ]
     },
     "execution_count": 36,
     "metadata": {},
     "output_type": "execute_result"
    }
   ],
   "source": [
    "list(data)"
   ]
  },
  {
   "cell_type": "code",
   "execution_count": null,
   "metadata": {
    "collapsed": true
   },
   "outputs": [],
   "source": []
  }
 ],
 "metadata": {
  "kernelspec": {
   "display_name": "Python 3",
   "language": "python",
   "name": "python3"
  },
  "language_info": {
   "codemirror_mode": {
    "name": "ipython",
    "version": 3
   },
   "file_extension": ".py",
   "mimetype": "text/x-python",
   "name": "python",
   "nbconvert_exporter": "python",
   "pygments_lexer": "ipython3",
   "version": "3.6.8"
  }
 },
 "nbformat": 4,
 "nbformat_minor": 2
}
